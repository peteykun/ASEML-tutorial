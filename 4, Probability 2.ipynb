{
 "cells": [
  {
   "cell_type": "markdown",
   "metadata": {},
   "source": [
    "# Conditional Probability"
   ]
  },
  {
   "cell_type": "markdown",
   "metadata": {},
   "source": [
    "Conditional probability of $P(X=x \\; | \\; Y=y)$ is given by:\n",
    "\n",
    "$$P(X=x \\; | \\; Y=y) = \\frac{P(X=x, Y=y)}{P(Y=y)}$$\n",
    "\n",
    "<!-- In the continuous case, expressed as densities:\n",
    "\n",
    "$$f(X=x \\; | \\; Y=y) = \\frac{f(X=x, Y=y)}{f(Y=y)}$$ -->"
   ]
  },
  {
   "cell_type": "markdown",
   "metadata": {},
   "source": [
    "**Useful:**\n",
    "\n",
    "Can rewrite to the form $P(X = x, Y = y) = P(Y = y) \\; P(X = x \\; | \\; Y = y)$\n",
    "\n",
    "Can further generalize to:\n",
    "\n",
    "$P_{X_1, X_2, \\dots X_N}(x_1, x_2, \\dots x_N) = P_{X_1}(x_1) \\;  P_{X_2 | X_1}(x_2 \\;|\\; x_1) \\; \\dots \\;  P_{X_N | X_1, X_2, \\dots, X_{N-1}}(x_N \\;|\\; x_1, x_2, \\dots, x_{N-1})$"
   ]
  },
  {
   "cell_type": "markdown",
   "metadata": {},
   "source": [
    "# Independence of Random Variables"
   ]
  },
  {
   "cell_type": "markdown",
   "metadata": {},
   "source": [
    "Two variables are said to be independent if:\n",
    "\n",
    "$P(X_i = x_i \\;|\\; X_j = x_j) = P(X_i = x_i)$\n",
    "\n",
    "or equivalently,\n",
    "\n",
    "$P_{X_1, X_2}(x_1, x_2) = P_{X_1}(x_1) \\; P_{X_2}(x_2)$"
   ]
  },
  {
   "cell_type": "markdown",
   "metadata": {},
   "source": [
    "The definition can be generalized to $N$ variables as follows:\n",
    "\n",
    "$P_{X_1, X_2, \\dots X_N}(x_1, x_2, \\dots x_N) = P_{X_1}(x_1) \\; P_{X_2}(x_2) \\; \\dots \\; P_{X_N}(x_n)$"
   ]
  },
  {
   "cell_type": "markdown",
   "metadata": {},
   "source": [
    "# Bayes Theorem"
   ]
  },
  {
   "cell_type": "markdown",
   "metadata": {},
   "source": [
    "Baye's Theorem gives the conditional probability of $A \\;|\\; B$:\n",
    "\n",
    "$$P(A \\;|\\; B) = \\frac{P(B \\;|\\; A)P(A)}{P(B)}$$\n",
    "\n",
    "Here $P(A)$ is called the **prior** or the initial belief in $A$ occuring.  \n",
    "$P(A \\;|\\; B)$ is called the **posterior probability**, i.e. the updated belief in $A$ occuring given that $B$ has occurred."
   ]
  },
  {
   "cell_type": "markdown",
   "metadata": {},
   "source": [
    "Another alternative statement is:\n",
    "\n",
    "$$P(A \\;|\\; B) = \\frac{P(B \\;|\\; A)P(A)}{P(B \\;|\\; A)P(A) + P(B \\;|\\; \\lnot A)P(\\lnot A)}$$"
   ]
  },
  {
   "cell_type": "markdown",
   "metadata": {},
   "source": [
    "This theorem can be extended to a *partition* $\\{A_1, A_2, \\dots A_n\\}$ of the sample space:\n",
    "\n",
    "$$P(A_i \\;|\\; B) = \\frac{P(B \\;|\\; A_i)P(A_i)}{\\sum_{k=1}^N P(B \\;|\\; A_k)P(A_k)}$$\n",
    "\n",
    "where:\n",
    "\n",
    "1. $A_i \\cap A_j = 0$ for $i \\neq j$\n",
    "2. $\\sum_{i=1}^N A_j = S$ constitutes the whole sample space."
   ]
  }
 ],
 "metadata": {
  "kernelspec": {
   "display_name": "Python 2",
   "language": "python",
   "name": "python2"
  },
  "language_info": {
   "codemirror_mode": {
    "name": "ipython",
    "version": 2
   },
   "file_extension": ".py",
   "mimetype": "text/x-python",
   "name": "python",
   "nbconvert_exporter": "python",
   "pygments_lexer": "ipython2",
   "version": "2.7.14"
  }
 },
 "nbformat": 4,
 "nbformat_minor": 2
}
