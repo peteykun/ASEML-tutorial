{
 "cells": [
  {
   "cell_type": "code",
   "execution_count": 1,
   "metadata": {},
   "outputs": [],
   "source": [
    "import numpy as np\n",
    "from matplotlib import pyplot as plt\n",
    "%matplotlib inline"
   ]
  },
  {
   "cell_type": "markdown",
   "metadata": {},
   "source": [
    "# Coin Tossing"
   ]
  },
  {
   "cell_type": "code",
   "execution_count": 2,
   "metadata": {},
   "outputs": [
    {
     "data": {
      "image/png": "[encoded data removed]",
      "text/plain": [
       "<matplotlib.figure.Figure at 0x7f96ad211390>"
      ]
     },
     "metadata": {},
     "output_type": "display_data"
    }
   ],
   "source": [
    "sample_space = [0, 1]\n",
    "draws = []\n",
    "\n",
    "for i in range(100000):\n",
    "    draws.append(np.random.choice(sample_space))\n",
    "    \n",
    "_ = plt.hist(draws)"
   ]
  },
  {
   "cell_type": "markdown",
   "metadata": {},
   "source": [
    "# Probability Mass Function\n",
    "\n",
    "Given a discrete sample space, we associate a probability mass $P(x)$ with every point $x$ in that space, such that:\n",
    "\n",
    "$$\\sum_{x} P(x) = 1$$"
   ]
  },
  {
   "cell_type": "code",
   "execution_count": 3,
   "metadata": {},
   "outputs": [
    {
     "data": {
      "image/png": "[encoded data removed]",
      "text/plain": [
       "<matplotlib.figure.Figure at 0x7f96ad2112d0>"
      ]
     },
     "metadata": {},
     "output_type": "display_data"
    }
   ],
   "source": [
    "sample_space = [0, 1, 2, 3, 4]\n",
    "pmf = [0.1, 0.1, 0.2, 0.2, 0.4]\n",
    "draws = []\n",
    "\n",
    "for i in range(100000):\n",
    "    draws.append(np.random.choice(sample_space, p=pmf))\n",
    "    \n",
    "_ = plt.hist(draws)"
   ]
  },
  {
   "cell_type": "markdown",
   "metadata": {},
   "source": [
    "# Random variable\n",
    "\n",
    "Loosely, $X$ is a **random variable** if it follows a distribution, e.g.\n",
    "\n",
    "$$X \\sim \\text{Bernoulli(p)}$$\n",
    "\n",
    "Then $X$ takes values from $\\{0, 1\\}$, with the corresponding probabilities $1-p$ and $p$."
   ]
  },
  {
   "cell_type": "markdown",
   "metadata": {},
   "source": [
    "# Some important distributions\n",
    "\n",
    "**Bernoulli distribution:** Bernoulli(p), sample space = $\\{0, 1\\}$  \n",
    "*Probability of getting a head on an unfair coin*  \n",
    "$$P(X=0) = 1-p$$  \n",
    "$$P(X=1) = p$$\n",
    "\n",
    "**Binomial distribution:** Binomial(p, n), sample space = $\\{0, 1, \\dots, n\\}$  \n",
    "*Probability of getting $k$ heads on tossing $n$ unfair coins*  \n",
    "$$P(X=k) = {n \\choose x} p^k (1-p)^{n-k}$$  \n",
    "\n",
    "**Poisson distribution:** Poisson($\\lambda$)  \n",
    "*Models an arrival process with a mean and variance of $\\lambda$*\n",
    "$$P(X=k) = \\frac{\\lambda^k e^{-\\lambda}}{k!}$$"
   ]
  },
  {
   "cell_type": "markdown",
   "metadata": {},
   "source": [
    "# Sampling\n",
    "\n",
    "In reality, we do not work with ideal distributions. We have some *samples* drawn from it.  \n",
    "\n",
    "$D = \\{x_1, x_2, \\dots x_n\\}$\n",
    "\n",
    "$n$ is called the sample size. Let us try sampling from the above distributions:"
   ]
  },
  {
   "cell_type": "code",
   "execution_count": 4,
   "metadata": {},
   "outputs": [
    {
     "data": {
      "image/png": "[encoded data removed]",
      "text/plain": [
       "<matplotlib.figure.Figure at 0x7f96aadfa450>"
      ]
     },
     "metadata": {},
     "output_type": "display_data"
    }
   ],
   "source": [
    "# Bernoulli(0.7)\n",
    "p = 0.7\n",
    "draws = np.random.binomial(1, p, size=100000)\n",
    "_ = plt.hist(draws)"
   ]
  },
  {
   "cell_type": "code",
   "execution_count": 5,
   "metadata": {},
   "outputs": [
    {
     "data": {
      "image/png": "[encoded data removed]",
      "text/plain": [
       "<matplotlib.figure.Figure at 0x7f96ad0faf90>"
      ]
     },
     "metadata": {},
     "output_type": "display_data"
    }
   ],
   "source": [
    "# Binomial(10, 0.7)\n",
    "n = 10\n",
    "p = 0.7\n",
    "draws = np.random.binomial(n, p, size=100000)\n",
    "_ = plt.hist(draws, bins=10)"
   ]
  },
  {
   "cell_type": "markdown",
   "metadata": {},
   "source": [
    "Note the peak at $k = 7$!"
   ]
  },
  {
   "cell_type": "code",
   "execution_count": 6,
   "metadata": {},
   "outputs": [
    {
     "data": {
      "image/png": "[encoded data removed]",
      "text/plain": [
       "<matplotlib.figure.Figure at 0x7f96ad113350>"
      ]
     },
     "metadata": {},
     "output_type": "display_data"
    }
   ],
   "source": [
    "# Poisson(10)\n",
    "lambda_ = 10\n",
    "draws = np.random.poisson(lambda_, size=100000)\n",
    "_ = plt.hist(draws, bins=12)"
   ]
  },
  {
   "cell_type": "markdown",
   "metadata": {},
   "source": [
    "Note the peak at $k = 7$!"
   ]
  },
  {
   "cell_type": "markdown",
   "metadata": {},
   "source": [
    "# Moments of a distribution"
   ]
  },
  {
   "cell_type": "markdown",
   "metadata": {},
   "source": [
    "The **expectation** of a distribution is:\n",
    "\n",
    "$$E[X] = \\sum_{x \\in X} x \\times p(x)$$\n",
    "\n",
    "The **sample mean** of a set of data $D = \\{x_1, x_2, \\dots x_n\\}$ is:\n",
    "\n",
    "$$\\bar D = \\frac{1}{n} \\sum_{i = 0}^n x_i$$\n",
    "\n",
    "**Result:** As $n \\rightarrow \\infty$, $\\bar D \\rightarrow E[X]$."
   ]
  },
  {
   "cell_type": "markdown",
   "metadata": {},
   "source": [
    "For the distributions above,\n",
    "1. Mean of Bernoulli(p) is $p$.\n",
    "2. Mean of Binomial(n, p) is $np$.\n",
    "3. Mean of Poisson($\\lambda$) is $\\lambda$ (by design).\n",
    "\n",
    "Note that the mean coincides with the peak of the above distributions! (Usually true for single-peaked distributions.)"
   ]
  },
  {
   "cell_type": "markdown",
   "metadata": {},
   "source": [
    "The **variance** of a distribution is defined as:  \n",
    "$$Var(X) = \\sum_{x \\in X} (x - E[X])^2 \\times p(x)$$\n",
    "\n",
    "The sample variance can be analogously defined as:\n",
    "$$Var(D) = \\frac{1}{n} \\sum_{i=0}^n (x_i - \\bar D)^2$$"
   ]
  },
  {
   "cell_type": "markdown",
   "metadata": {},
   "source": [
    "The variance of Binomial(n, p) is $np(1-p)$ and that of Poisson($\\lambda$) is again $\\lambda$, by design."
   ]
  },
  {
   "cell_type": "code",
   "execution_count": 7,
   "metadata": {},
   "outputs": [
    {
     "name": "stdout",
     "output_type": "stream",
     "text": [
      "Distribution mean: 7.0\n",
      "Distribution variance: 2.1 \n",
      "\n",
      "Sample mean: 6.9977\n",
      "Sample variance: 2.0963\n"
     ]
    }
   ],
   "source": [
    "# Binomial(10, 0.7)\n",
    "n = 10\n",
    "p = 0.7\n",
    "draws = np.random.binomial(n, p, size=100000)\n",
    "\n",
    "print 'Distribution mean:', n*p\n",
    "print 'Distribution variance:', n*p*(1-p), '\\n'\n",
    "\n",
    "print 'Sample mean:', np.mean(draws).round(4)\n",
    "print 'Sample variance:', np.var(draws).round(4)"
   ]
  },
  {
   "cell_type": "code",
   "execution_count": 8,
   "metadata": {},
   "outputs": [
    {
     "name": "stdout",
     "output_type": "stream",
     "text": [
      "Distribution mean: 10\n",
      "Distribution variance: 10 \n",
      "\n",
      "Sample mean: 10.0008\n",
      "Sample variance: 10.0374\n"
     ]
    }
   ],
   "source": [
    "# Poisson(10)\n",
    "lambda_ = 10\n",
    "draws = np.random.poisson(lambda_, size=100000)\n",
    "\n",
    "print 'Distribution mean:', lambda_\n",
    "print 'Distribution variance:', lambda_, '\\n'\n",
    "\n",
    "print 'Sample mean:', np.mean(draws).round(4)\n",
    "print 'Sample variance:', np.var(draws).round(4)"
   ]
  },
  {
   "cell_type": "markdown",
   "metadata": {},
   "source": [
    "The expectation is called the **first moment** of the distribution.  \n",
    "$E(X^2)$ is the second moment, and it is related to the variance by:\n",
    "\n",
    "$$E(X^2) = E(X^2) - E(X)^2$$\n",
    "\n",
    "Further moments can be determined as $E(X^3), E(X^4), ...$"
   ]
  },
  {
   "cell_type": "markdown",
   "metadata": {},
   "source": [
    "**Result:** If **all** moments of two distributions match, they are identical.  \n",
    "Moments allow us to reason about the distributions, and sample mean, variance, etc. allow us, in turn, to reason about the moments."
   ]
  },
  {
   "cell_type": "markdown",
   "metadata": {},
   "source": [
    "# Continous random variables\n",
    "\n",
    "If the sample space is a continuous set, we redefine the notion of probability in terms of integrals:\n",
    "\n",
    "$$\\int_{x} f(x) = 1$$\n",
    "\n",
    "In particular, the probability of any single point is $0$, i.e. $P(X=k) = 0$ in a continuous sample space.  \n",
    "So, we instead make use of $f(x)$, a **probability density function**."
   ]
  },
  {
   "cell_type": "markdown",
   "metadata": {},
   "source": [
    "The normal distribution, $\\mathcal{N}(\\mu, \\sigma)$ is the most important of these.\n",
    "\n",
    "$$P(x = k) \\propto \\exp \\Bigg(- \\frac{(x - \\mu)^2}{2 \\sigma^2}\\Bigg)$$\n",
    "\n",
    "This is a single-peaked distribution with a mean of $\\mu$ and a variance of $\\sigma^2$ (by design)."
   ]
  },
  {
   "cell_type": "code",
   "execution_count": 9,
   "metadata": {},
   "outputs": [
    {
     "data": {
      "image/png": "[encoded data removed]",
      "text/plain": [
       "<matplotlib.figure.Figure at 0x7f96ad137550>"
      ]
     },
     "metadata": {},
     "output_type": "display_data"
    }
   ],
   "source": [
    "# Normal(0, 1)\n",
    "mu = 0\n",
    "sigma = 1\n",
    "draws = np.random.normal(loc=mu, scale=sigma, size=100000)\n",
    "\n",
    "_ = plt.hist(draws, label='Normal', bins=100)"
   ]
  },
  {
   "cell_type": "markdown",
   "metadata": {},
   "source": [
    "# Moments of a continous RV\n",
    "\n",
    "The moments are redefined using density and integrals:\n",
    "\n",
    "$$E[X] = \\int_{x} x \\cdot f(x)$$  \n",
    "$$Var[X] = \\int_{x} x \\cdot (f(x) - E[X])^2$$\n",
    "\n",
    "The expression for computing the sample mean and variance, of course, remain the same."
   ]
  },
  {
   "cell_type": "code",
   "execution_count": 10,
   "metadata": {},
   "outputs": [
    {
     "name": "stdout",
     "output_type": "stream",
     "text": [
      "Distribution mean: 0\n",
      "Distribution variance: 1 \n",
      "\n",
      "Sample mean: 0.0023\n",
      "Sample variance: 0.9934\n"
     ]
    }
   ],
   "source": [
    "print 'Distribution mean:', mu\n",
    "print 'Distribution variance:', sigma ** 2, '\\n'\n",
    "\n",
    "print 'Sample mean:', np.mean(draws).round(4)\n",
    "print 'Sample variance:', np.var(draws).round(4)"
   ]
  }
 ],
 "metadata": {
  "kernelspec": {
   "display_name": "Python 2",
   "language": "python",
   "name": "python2"
  },
  "language_info": {
   "codemirror_mode": {
    "name": "ipython",
    "version": 2
   },
   "file_extension": ".py",
   "mimetype": "text/x-python",
   "name": "python",
   "nbconvert_exporter": "python",
   "pygments_lexer": "ipython2",
   "version": "2.7.14"
  }
 },
 "nbformat": 4,
 "nbformat_minor": 2
}
