{
 "cells": [
  {
   "cell_type": "code",
   "execution_count": 1,
   "metadata": {},
   "outputs": [],
   "source": [
    "import numpy as np"
   ]
  },
  {
   "cell_type": "markdown",
   "metadata": {},
   "source": [
    "# Diagonalization"
   ]
  },
  {
   "cell_type": "markdown",
   "metadata": {},
   "source": [
    "We say that a matrix $A$ is diagonalizable if there exists a matrix $P$ such that:\n",
    "\n",
    "$$P^{-1} A P = D = diag(\\lambda_1, \\lambda_2, \\dots, \\lambda_n)$$"
   ]
  },
  {
   "cell_type": "code",
   "execution_count": 2,
   "metadata": {},
   "outputs": [
    {
     "name": "stdout",
     "output_type": "stream",
     "text": [
      "A:\n",
      "[[1 1]\n",
      " [0 2]] \n",
      "\n",
      "P:\n",
      "[[1 1]\n",
      " [0 1]]\n"
     ]
    }
   ],
   "source": [
    "A = np.array([[1, 1],\n",
    "              [0, 2]])\n",
    "P = np.array([[1, 1],\n",
    "              [0, 1]])\n",
    "\n",
    "print \"A:\\n\", A, \"\\n\"\n",
    "print \"P:\\n\", P"
   ]
  },
  {
   "cell_type": "code",
   "execution_count": 3,
   "metadata": {},
   "outputs": [
    {
     "name": "stdout",
     "output_type": "stream",
     "text": [
      "[[ 1.  0.]\n",
      " [ 0.  2.]]\n"
     ]
    }
   ],
   "source": [
    "print np.matmul(np.matmul(np.linalg.inv(P), A), P)"
   ]
  },
  {
   "cell_type": "markdown",
   "metadata": {},
   "source": [
    "Here, $\\lambda_1 = 1$ and $\\lambda_2 = 2$.  \n",
    "So, clearly, A is diagonalizable.\n",
    "\n",
    "**Note:** Not all real matrices are diagonalizable over $\\mathbb{R}$. For example (try this at home):"
   ]
  },
  {
   "cell_type": "code",
   "execution_count": 4,
   "metadata": {},
   "outputs": [
    {
     "name": "stdout",
     "output_type": "stream",
     "text": [
      "[[ 0 -1]\n",
      " [ 1  0]]\n"
     ]
    }
   ],
   "source": [
    "print np.array([[0, -1],\n",
    "                [1, 0]])"
   ]
  },
  {
   "cell_type": "markdown",
   "metadata": {},
   "source": [
    "All real matrices are diagonalizable over $\\mathbb{C}$. (i.e. $\\lambda_i \\in \\mathbb{C}$)."
   ]
  },
  {
   "cell_type": "markdown",
   "metadata": {},
   "source": [
    "# Eigenvalues and Eigenvectors"
   ]
  },
  {
   "cell_type": "markdown",
   "metadata": {},
   "source": [
    "$\\lambda$ is an **eigenvalue** of a matrix $A$ if there exists a non-zero vector v $v$ such that:\n",
    "\n",
    "$$A \\phi = \\lambda \\cdot \\phi$$\n",
    "\n",
    "The vector $\\phi$ is called an **eigenvector**. These are vectors that are invariant *in direction* under $A$.  \n",
    "Together, $(\\lambda, \\phi)$ constitute an **eigenpair**."
   ]
  },
  {
   "cell_type": "code",
   "execution_count": 5,
   "metadata": {},
   "outputs": [
    {
     "name": "stdout",
     "output_type": "stream",
     "text": [
      "A:\n",
      "[[1 1]\n",
      " [0 2]] \n",
      "\n",
      "v:\n",
      "[1 0]\n"
     ]
    }
   ],
   "source": [
    "A = np.array([[1, 1],\n",
    "              [0, 2]])\n",
    "v = np.array([1, 0])\n",
    "\n",
    "print \"A:\\n\", A, \"\\n\"\n",
    "print \"v:\\n\", v"
   ]
  },
  {
   "cell_type": "code",
   "execution_count": 6,
   "metadata": {},
   "outputs": [
    {
     "name": "stdout",
     "output_type": "stream",
     "text": [
      "[1 0]\n",
      "[1 0]\n"
     ]
    }
   ],
   "source": [
    "print np.matmul(A, v)\n",
    "print 1 * v"
   ]
  },
  {
   "cell_type": "markdown",
   "metadata": {},
   "source": [
    "Clearly, $\\lambda = 1$ is an eigenvalue!"
   ]
  },
  {
   "cell_type": "code",
   "execution_count": 7,
   "metadata": {},
   "outputs": [
    {
     "name": "stdout",
     "output_type": "stream",
     "text": [
      "A:\n",
      "[[1 1]\n",
      " [0 2]] \n",
      "\n",
      "v:\n",
      "[1 1]\n"
     ]
    }
   ],
   "source": [
    "A = np.array([[1, 1],\n",
    "              [0, 2]])\n",
    "v = np.array([1, 1])\n",
    "\n",
    "print \"A:\\n\", A, \"\\n\"\n",
    "print \"v:\\n\", v"
   ]
  },
  {
   "cell_type": "code",
   "execution_count": 8,
   "metadata": {},
   "outputs": [
    {
     "name": "stdout",
     "output_type": "stream",
     "text": [
      "[2 2]\n",
      "[2 2]\n"
     ]
    }
   ],
   "source": [
    "print np.matmul(A, v)\n",
    "print 2 * v"
   ]
  },
  {
   "cell_type": "markdown",
   "metadata": {},
   "source": [
    "Clearly, $\\lambda = 2$ is an eigenvalue!"
   ]
  },
  {
   "cell_type": "markdown",
   "metadata": {},
   "source": [
    "This is no accident! Recall the value of P:"
   ]
  },
  {
   "cell_type": "code",
   "execution_count": 9,
   "metadata": {},
   "outputs": [
    {
     "name": "stdout",
     "output_type": "stream",
     "text": [
      "P:\n",
      "[[1 1]\n",
      " [0 1]]\n"
     ]
    }
   ],
   "source": [
    "print \"P:\\n\", P"
   ]
  },
  {
   "cell_type": "markdown",
   "metadata": {},
   "source": [
    "The $v$'s that we selected correspond to the **columns** of $P$!  "
   ]
  },
  {
   "cell_type": "markdown",
   "metadata": {},
   "source": [
    "# Eigendecomposition"
   ]
  },
  {
   "cell_type": "markdown",
   "metadata": {},
   "source": [
    "Rewriting $A = P D P^{-1}$, we have the following:\n",
    "\n",
    "$$A = P^{-1} \\Lambda P$$\n",
    "\n",
    "where $\\Lambda$ is a diagonal matrix of eigenvalues $= diag(\\lambda_1, \\lambda_2, \\dots \\lambda_N)$ and the columns of $P$ constitute the eigenvalues of $A$."
   ]
  },
  {
   "cell_type": "markdown",
   "metadata": {},
   "source": [
    "We can retreive the eigenpairs with the library function `np.linalg.eig`:"
   ]
  },
  {
   "cell_type": "code",
   "execution_count": 10,
   "metadata": {},
   "outputs": [
    {
     "name": "stdout",
     "output_type": "stream",
     "text": [
      "The matrix A:\n",
      "[[1 1]\n",
      " [0 2]] \n",
      "\n",
      "λ_1: 1.0\n",
      "v_1: [ 1.  0.]\n",
      "λ_2: 2.0\n",
      "v_2: [ 0.70710678  0.70710678]\n"
     ]
    }
   ],
   "source": [
    "eigval, eigvec = np.linalg.eig(A)\n",
    "\n",
    "print \"The matrix A:\\n\", A, \"\\n\"\n",
    "\n",
    "for i in range(2):\n",
    "    print 'λ_%d:' % (i+1), eigval[i]\n",
    "    print 'v_%d:' % (i+1), eigvec[:,i]"
   ]
  },
  {
   "cell_type": "markdown",
   "metadata": {},
   "source": [
    "**Be careful!** The eigendecomposition might yield complex eigenvalues!  \n",
    "**Note:** Symmetric matrices only have real eigenvalues."
   ]
  },
  {
   "cell_type": "markdown",
   "metadata": {},
   "source": [
    "\"Proof\" by sampling"
   ]
  },
  {
   "cell_type": "code",
   "execution_count": 11,
   "metadata": {},
   "outputs": [
    {
     "name": "stdout",
     "output_type": "stream",
     "text": [
      "[ -53.99058899  154.45343582   52.53715317]\n",
      "[ 193.01737063   11.70761952   33.27500985]\n",
      "[ 221.68587334  -33.29034621   18.60447287]\n",
      "[ 162.01388532    0.17212057  -63.18600588]\n",
      "[ 173.58551294   -2.93459405  -73.6509189 ]\n"
     ]
    }
   ],
   "source": [
    "for _ in range(5):\n",
    "    A = np.random.randint(0, 100, size=(3,3))\n",
    "    \n",
    "    for i in range(3):\n",
    "        for j in range(i):\n",
    "            A[j,i] = A[i,j]\n",
    "\n",
    "    eigval, _ = np.linalg.eig(A)\n",
    "    print eigval"
   ]
  },
  {
   "cell_type": "markdown",
   "metadata": {},
   "source": [
    "Assymetric matrices: counterexample"
   ]
  },
  {
   "cell_type": "code",
   "execution_count": 12,
   "metadata": {},
   "outputs": [
    {
     "name": "stdout",
     "output_type": "stream",
     "text": [
      "[[74 55 69]\n",
      " [65 80 45]\n",
      " [11 78 54]] \n",
      "\n",
      "v_1: (177.852603322+0j)\n",
      "v_2: (15.0736983392+28.3370894016j)\n",
      "v_3: (15.0736983392-28.3370894016j)\n"
     ]
    }
   ],
   "source": [
    "while True:\n",
    "    A = np.random.randint(0, 100, size=(3,3))\n",
    "    eigval, _ = np.linalg.eig(A)\n",
    "    \n",
    "    quit = False\n",
    "    \n",
    "    for v in eigval:\n",
    "        if np.imag(v) != 0:\n",
    "            quit = True\n",
    "           \n",
    "    if quit:\n",
    "        break\n",
    "\n",
    "print A, \"\\n\"\n",
    "\n",
    "for i, v in enumerate(eigval):\n",
    "    print 'v_%d:' % (i+1), v"
   ]
  },
  {
   "cell_type": "markdown",
   "metadata": {},
   "source": [
    "# Singular Value Decomposition"
   ]
  },
  {
   "cell_type": "markdown",
   "metadata": {},
   "source": [
    "Yet another useful matrix decomposition is SVD. Consider a non-square matrix, $A \\in \\mathbb{R}^{m \\times n}$. Then:\n",
    "\n",
    "$$A = U \\Sigma V^T$$\n",
    "\n",
    "where:\n",
    "\n",
    "1. $\\Sigma$ is the diagonal matrix of **singular values**, the square roots of eigenvalues of the matrix $A^T A$.\n",
    "2. The columns of $U$ form a basis for $R^{n}$\n",
    "2. The columns of $V$ form a basis for $R^{m}$\n",
    "\n",
    "Furthermore, each eigenvector is normalized such that:\n",
    "\n",
    "1. $\\lVert v \\rVert_2 = 1$ for all $v$, i.e. they are all **unit vectors**\n",
    "1. $v_1^T v_2 = 0$, i.e. they are **perpendicular to each other**"
   ]
  },
  {
   "cell_type": "code",
   "execution_count": 13,
   "metadata": {},
   "outputs": [
    {
     "name": "stdout",
     "output_type": "stream",
     "text": [
      "The matrix A:\n",
      "[[1 1]\n",
      " [0 2]] \n",
      "\n",
      "The matrix A^T A:\n",
      "[[1 1]\n",
      " [1 5]] \n",
      "\n",
      "s_1: 5.2360679775\n",
      "s_2: 0.7639320225\n",
      "\n",
      "λ_1: 0.7639320225\n",
      "λ_2: 5.2360679775\n"
     ]
    }
   ],
   "source": [
    "A = np.array([[1, 1],\n",
    "              [0, 2]])\n",
    "\n",
    "u, s, v = np.linalg.svd(A)\n",
    "eigval, _ = np.linalg.eig(np.matmul(A.T, A))\n",
    "\n",
    "print \"The matrix A:\\n\", A, \"\\n\"\n",
    "print \"The matrix A^T A:\\n\", np.matmul(A.T, A), \"\\n\"\n",
    "\n",
    "for i in range(2):\n",
    "    print 's_%d:' % (i+1), s[i] ** 2\n",
    "\n",
    "print ''\n",
    "    \n",
    "for i in range(2):\n",
    "    print 'λ_%d:' % (i+1), eigval[i]"
   ]
  },
  {
   "cell_type": "code",
   "execution_count": 14,
   "metadata": {
    "scrolled": true
   },
   "outputs": [
    {
     "name": "stdout",
     "output_type": "stream",
     "text": [
      "u1: [ 0.52573111  0.85065081]\n",
      "u2: [-0.85065081  0.52573111]\n"
     ]
    }
   ],
   "source": [
    "print 'u1:', u[:,0]\n",
    "print 'u2:', u[:,1]"
   ]
  },
  {
   "cell_type": "code",
   "execution_count": 15,
   "metadata": {
    "scrolled": true
   },
   "outputs": [
    {
     "name": "stdout",
     "output_type": "stream",
     "text": [
      "v1: [ 0.52573111  0.85065081]\n",
      "v2: [-0.85065081  0.52573111]\n"
     ]
    }
   ],
   "source": [
    "print 'v1:', u[:,0]\n",
    "print 'v2:', u[:,1]"
   ]
  }
 ],
 "metadata": {
  "kernelspec": {
   "display_name": "Python 2",
   "language": "python",
   "name": "python2"
  },
  "language_info": {
   "codemirror_mode": {
    "name": "ipython",
    "version": 2
   },
   "file_extension": ".py",
   "mimetype": "text/x-python",
   "name": "python",
   "nbconvert_exporter": "python",
   "pygments_lexer": "ipython2",
   "version": "2.7.14"
  }
 },
 "nbformat": 4,
 "nbformat_minor": 2
}
