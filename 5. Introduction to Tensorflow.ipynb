{
 "cells": [
  {
   "cell_type": "code",
   "execution_count": 1,
   "metadata": {},
   "outputs": [],
   "source": [
    "import tensorflow as tf\n",
    "import numpy as np\n",
    "from matplotlib import pyplot as plt\n",
    "%matplotlib inline"
   ]
  },
  {
   "cell_type": "markdown",
   "metadata": {},
   "source": [
    "# Tensorflow\n",
    "\n",
    "Tensorflow is Google's library for dataflow-based mathematical computation.  \n",
    "It is open-source and fast moving.\n",
    "\n",
    "1. Automatic GPU acceleration\n",
    "2. Google's support\n",
    "3. Most of publicly available Deep Learning/Neural Nets code is written in Tensorflow!"
   ]
  },
  {
   "cell_type": "markdown",
   "metadata": {},
   "source": [
    "**Dataflow graph**  \n",
    "Tensorflow makes use of a dataflow graph with data and control nodes.  \n",
    "1. First, you must define the graph using your code.\n",
    "\n",
    "       x = Placeholder()\n",
    "       y = Placeholder()\n",
    "       z = x + y\n",
    "\n",
    "2. Later, you must invoke the graph to retrieve the required information from nodes (passing in any missing information as required).\n",
    "\n",
    "       z_value = run(z, {x: 1, y: 2}}\n",
    "       print(z_value)"
   ]
  },
  {
   "cell_type": "markdown",
   "metadata": {},
   "source": [
    "# Placeholders\n",
    "\n",
    "Placeholders are essentially *inputs* that can be set for each run of the computation graph.  \n",
    "Each placeholder must have a **type**."
   ]
  },
  {
   "cell_type": "code",
   "execution_count": 2,
   "metadata": {},
   "outputs": [],
   "source": [
    "x = tf.placeholder(tf.int32)\n",
    "y = tf.placeholder(tf.int32)\n",
    "z = x+y"
   ]
  },
  {
   "cell_type": "code",
   "execution_count": 3,
   "metadata": {},
   "outputs": [
    {
     "name": "stdout",
     "output_type": "stream",
     "text": [
      "[23]\n"
     ]
    }
   ],
   "source": [
    "# Scalars\n",
    "with tf.Session() as sess:\n",
    "    a = np.array([13])\n",
    "    b = np.array([10])\n",
    "    print sess.run(z, {x: a, y: b})"
   ]
  },
  {
   "cell_type": "code",
   "execution_count": 4,
   "metadata": {},
   "outputs": [
    {
     "name": "stdout",
     "output_type": "stream",
     "text": [
      "[11 22 33]\n"
     ]
    }
   ],
   "source": [
    "# Vectors\n",
    "with tf.Session() as sess:\n",
    "    a = np.array([1, 2, 3])\n",
    "    b = np.array([10, 20, 30])\n",
    "    print sess.run(z, {x: a, y: b})"
   ]
  },
  {
   "cell_type": "markdown",
   "metadata": {},
   "source": [
    "You can **specify a shape** for placeholders:"
   ]
  },
  {
   "cell_type": "code",
   "execution_count": 5,
   "metadata": {},
   "outputs": [],
   "source": [
    "x = tf.placeholder(tf.int32, [1, 3])\n",
    "y = tf.placeholder(tf.int32, [1, 3])\n",
    "z = x + y"
   ]
  },
  {
   "cell_type": "code",
   "execution_count": 6,
   "metadata": {},
   "outputs": [
    {
     "name": "stdout",
     "output_type": "stream",
     "text": [
      "[[11 22 33]]\n"
     ]
    }
   ],
   "source": [
    "with tf.Session() as sess:\n",
    "    a = np.reshape(np.array([1, 2, 3]), (1, 3))\n",
    "    b = np.reshape(np.array([10, 20, 30]), (1, 3))\n",
    "    print sess.run(z, {x: a, y: b})"
   ]
  },
  {
   "cell_type": "code",
   "execution_count": 7,
   "metadata": {},
   "outputs": [
    {
     "name": "stdout",
     "output_type": "stream",
     "text": [
      "Cannot feed value of shape (1, 2) for Tensor u'Placeholder_2:0', which has shape '(1, 3)'\n"
     ]
    }
   ],
   "source": [
    "with tf.Session() as sess:\n",
    "    a = np.reshape(np.array([1, 2]), (1, 2))\n",
    "    b = np.reshape(np.array([10, 20]), (1, 2))\n",
    "    \n",
    "    try:\n",
    "        print sess.run(z, {x: a, y: b})\n",
    "    except ValueError as e:\n",
    "        print e"
   ]
  },
  {
   "cell_type": "markdown",
   "metadata": {},
   "source": [
    "You could also leave it **only partially specified**:"
   ]
  },
  {
   "cell_type": "code",
   "execution_count": 8,
   "metadata": {},
   "outputs": [],
   "source": [
    "x = tf.placeholder(tf.int32, [1, None])\n",
    "y = tf.placeholder(tf.int32, [1, None])\n",
    "z = x + y"
   ]
  },
  {
   "cell_type": "code",
   "execution_count": 9,
   "metadata": {},
   "outputs": [
    {
     "name": "stdout",
     "output_type": "stream",
     "text": [
      "[[11 22 33]]\n"
     ]
    }
   ],
   "source": [
    "with tf.Session() as sess:\n",
    "    a = np.reshape(np.array([1, 2, 3]), (1, 3))\n",
    "    b = np.reshape(np.array([10, 20, 30]), (1, 3))\n",
    "    print sess.run(z, {x: a, y: b})"
   ]
  },
  {
   "cell_type": "code",
   "execution_count": 10,
   "metadata": {},
   "outputs": [
    {
     "name": "stdout",
     "output_type": "stream",
     "text": [
      "[[11 22]]\n"
     ]
    }
   ],
   "source": [
    "with tf.Session() as sess:\n",
    "    a = np.reshape(np.array([1, 2]), (1, 2))\n",
    "    b = np.reshape(np.array([10, 20]), (1, 2))\n",
    "    \n",
    "    print sess.run(z, {x: a, y: b})"
   ]
  },
  {
   "cell_type": "code",
   "execution_count": 11,
   "metadata": {},
   "outputs": [
    {
     "name": "stdout",
     "output_type": "stream",
     "text": [
      "Cannot feed value of shape (2, 1) for Tensor u'Placeholder_4:0', which has shape '(1, ?)'\n"
     ]
    }
   ],
   "source": [
    "with tf.Session() as sess:\n",
    "    a = np.reshape(np.array([1, 2]), (2, 1))\n",
    "    b = np.reshape(np.array([10, 20]), (2, 1))\n",
    "    \n",
    "    try:\n",
    "        print sess.run(z, {x: a, y: b})\n",
    "    except ValueError as e:\n",
    "        print e"
   ]
  },
  {
   "cell_type": "markdown",
   "metadata": {},
   "source": [
    "# Variables\n",
    "\n",
    "Variables are values that persist across runs of the computation graph.  "
   ]
  },
  {
   "cell_type": "code",
   "execution_count": 12,
   "metadata": {},
   "outputs": [],
   "source": [
    "initial_value = np.eye(2)\n",
    "w = tf.Variable(initial_value, dtype=tf.int32)"
   ]
  },
  {
   "cell_type": "code",
   "execution_count": 13,
   "metadata": {},
   "outputs": [
    {
     "name": "stdout",
     "output_type": "stream",
     "text": [
      "[[1 0]\n",
      " [0 1]]\n"
     ]
    }
   ],
   "source": [
    "with tf.Session() as sess:\n",
    "    sess.run(tf.global_variables_initializer())\n",
    "    print sess.run(w)"
   ]
  },
  {
   "cell_type": "markdown",
   "metadata": {},
   "source": [
    "Control flow operation:"
   ]
  },
  {
   "cell_type": "code",
   "execution_count": 14,
   "metadata": {},
   "outputs": [],
   "source": [
    "assign_op = tf.assign(w, w*2)"
   ]
  },
  {
   "cell_type": "markdown",
   "metadata": {},
   "source": [
    "It's not an imperative statement!"
   ]
  },
  {
   "cell_type": "code",
   "execution_count": 15,
   "metadata": {},
   "outputs": [
    {
     "name": "stdout",
     "output_type": "stream",
     "text": [
      "[[1 0]\n",
      " [0 1]]\n"
     ]
    }
   ],
   "source": [
    "with tf.Session() as sess:\n",
    "    sess.run(tf.global_variables_initializer())\n",
    "    print sess.run(w)"
   ]
  },
  {
   "cell_type": "markdown",
   "metadata": {},
   "source": [
    "Control operations must also be *called*!"
   ]
  },
  {
   "cell_type": "code",
   "execution_count": 16,
   "metadata": {},
   "outputs": [
    {
     "name": "stdout",
     "output_type": "stream",
     "text": [
      "[[1 0]\n",
      " [0 1]]\n",
      "[[2 0]\n",
      " [0 2]]\n"
     ]
    }
   ],
   "source": [
    "with tf.Session() as sess:\n",
    "    sess.run(tf.global_variables_initializer())\n",
    "    print sess.run(w)\n",
    "    sess.run(assign_op)\n",
    "    print sess.run(w)"
   ]
  },
  {
   "cell_type": "markdown",
   "metadata": {},
   "source": [
    "**Let's try using it as is:**  \n",
    "Compute $x w$ where $x \\in \\mathbb{R}^{1 \\times 2}$ and $w \\in \\mathbb{R}^{2 \\times 2}$."
   ]
  },
  {
   "cell_type": "code",
   "execution_count": 17,
   "metadata": {},
   "outputs": [],
   "source": [
    "x = tf.placeholder(tf.int32, [None, 2])\n",
    "initial_value = 5 * np.eye(2)\n",
    "w = tf.Variable(initial_value, dtype=tf.int32)"
   ]
  },
  {
   "cell_type": "code",
   "execution_count": 18,
   "metadata": {},
   "outputs": [],
   "source": [
    "result = tf.matmul(x, w)"
   ]
  },
  {
   "cell_type": "code",
   "execution_count": 19,
   "metadata": {},
   "outputs": [
    {
     "name": "stdout",
     "output_type": "stream",
     "text": [
      "w:\n",
      "[[5 0]\n",
      " [0 5]] \n",
      "\n",
      "Result:\n",
      "[[ 5 10]]\n"
     ]
    }
   ],
   "source": [
    "with tf.Session() as sess:\n",
    "    sess.run(tf.global_variables_initializer())\n",
    "    print 'w:\\n', sess.run(w), '\\n'\n",
    "    print 'Result:\\n', sess.run(result, {x: np.array([1, 2]).reshape(1, 2)})"
   ]
  },
  {
   "cell_type": "markdown",
   "metadata": {},
   "source": [
    "# Optimization"
   ]
  },
  {
   "cell_type": "code",
   "execution_count": 20,
   "metadata": {},
   "outputs": [],
   "source": [
    "initial_guess = 1003\n",
    "x = tf.Variable(initial_guess, dtype=tf.float32)\n",
    "f = x*x"
   ]
  },
  {
   "cell_type": "code",
   "execution_count": 21,
   "metadata": {},
   "outputs": [
    {
     "name": "stdout",
     "output_type": "stream",
     "text": [
      "WARNING:tensorflow:From /home/petey/.local/lib/python2.7/site-packages/tensorflow/python/util/tf_should_use.py:107: initialize_all_variables (from tensorflow.python.ops.variables) is deprecated and will be removed after 2017-03-02.\n",
      "Instructions for updating:\n",
      "Use `tf.global_variables_initializer` instead.\n"
     ]
    }
   ],
   "source": [
    "sess = tf.Session()\n",
    "sess.run(tf.initialize_all_variables())"
   ]
  },
  {
   "cell_type": "code",
   "execution_count": 22,
   "metadata": {},
   "outputs": [
    {
     "name": "stdout",
     "output_type": "stream",
     "text": [
      "Initial value of x: 1003.0\n",
      "Initial value of f: 1.00601e+06\n"
     ]
    }
   ],
   "source": [
    "print 'Initial value of x:', sess.run(x)\n",
    "print 'Initial value of f:', sess.run(f)"
   ]
  },
  {
   "cell_type": "markdown",
   "metadata": {},
   "source": [
    "Create an optimizer."
   ]
  },
  {
   "cell_type": "code",
   "execution_count": 23,
   "metadata": {},
   "outputs": [],
   "source": [
    "optimizer = tf.train.GradientDescentOptimizer(0.01).minimize(f)"
   ]
  },
  {
   "cell_type": "markdown",
   "metadata": {},
   "source": [
    "Perform stochastic gradient descent iteratively."
   ]
  },
  {
   "cell_type": "code",
   "execution_count": 24,
   "metadata": {},
   "outputs": [],
   "source": [
    "sess.run(tf.initialize_all_variables())\n",
    "fval = []\n",
    "xval = []\n",
    "\n",
    "for _ in range(300):\n",
    "    fval.append(sess.run(f))\n",
    "    xval.append(sess.run(x))\n",
    "    sess.run(optimizer)"
   ]
  },
  {
   "cell_type": "code",
   "execution_count": 25,
   "metadata": {},
   "outputs": [
    {
     "name": "stdout",
     "output_type": "stream",
     "text": [
      "Final value: 2.38725\n"
     ]
    }
   ],
   "source": [
    "print 'Final value:', xval[-1]"
   ]
  },
  {
   "cell_type": "code",
   "execution_count": 26,
   "metadata": {},
   "outputs": [
    {
     "data": {
      "image/png": "[encoded data removed]",
      "text/plain": [
       "<matplotlib.figure.Figure at 0x7fed600ece10>"
      ]
     },
     "metadata": {},
     "output_type": "display_data"
    }
   ],
   "source": [
    "plt.plot(range(len(fval)), fval)\n",
    "plt.xlabel('Iteration')\n",
    "plt.ylabel('Function value')\n",
    "_ = plt.title('Function value decrease')"
   ]
  },
  {
   "cell_type": "code",
   "execution_count": 27,
   "metadata": {},
   "outputs": [
    {
     "data": {
      "image/png": "[encoded data removed]",
      "text/plain": [
       "<matplotlib.figure.Figure at 0x7fed5d4a1510>"
      ]
     },
     "metadata": {},
     "output_type": "display_data"
    }
   ],
   "source": [
    "plt.plot(range(len(xval)), xval)\n",
    "plt.xlabel('Iteration')\n",
    "plt.ylabel('x value')\n",
    "_ = plt.title('x value change')"
   ]
  },
  {
   "cell_type": "markdown",
   "metadata": {},
   "source": [
    "Other optimizers to use:\n",
    "\n",
    "1. `tf.train.RMSPropOptimizer`\n",
    "2. `tf.train.AdadeltaOptimizer`\n",
    "3. `tf.train.AdagradOptimizer`\n",
    "4. `tf.train.AdamOptimizer` -- when in doubt, use this."
   ]
  }
 ],
 "metadata": {
  "kernelspec": {
   "display_name": "Python 2",
   "language": "python",
   "name": "python2"
  },
  "language_info": {
   "codemirror_mode": {
    "name": "ipython",
    "version": 2
   },
   "file_extension": ".py",
   "mimetype": "text/x-python",
   "name": "python",
   "nbconvert_exporter": "python",
   "pygments_lexer": "ipython2",
   "version": "2.7.14"
  }
 },
 "nbformat": 4,
 "nbformat_minor": 2
}
